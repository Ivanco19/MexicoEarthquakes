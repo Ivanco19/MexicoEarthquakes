{
 "cells": [
  {
   "cell_type": "code",
   "execution_count": 1,
   "metadata": {},
   "outputs": [],
   "source": [
    "import pandas as pd\n",
    "from pymongo import MongoClient"
   ]
  },
  {
   "cell_type": "code",
   "execution_count": 6,
   "metadata": {},
   "outputs": [],
   "source": [
    "cols = ['Fecha', 'Hora', 'Magnitud','Latitud','Longitud', 'Referencia de localizacion']\n",
    "earthquakes = pd.read_csv('Sismos_mexico_2023.csv', usecols=cols)"
   ]
  },
  {
   "cell_type": "code",
   "execution_count": 7,
   "metadata": {},
   "outputs": [],
   "source": [
    "earthquakes['Estado'] = earthquakes['Referencia de localizacion'].apply(lambda x: x.split(', ')[1].strip())"
   ]
  },
  {
   "cell_type": "code",
   "execution_count": 8,
   "metadata": {},
   "outputs": [
    {
     "data": {
      "text/html": [
       "<div>\n",
       "<style scoped>\n",
       "    .dataframe tbody tr th:only-of-type {\n",
       "        vertical-align: middle;\n",
       "    }\n",
       "\n",
       "    .dataframe tbody tr th {\n",
       "        vertical-align: top;\n",
       "    }\n",
       "\n",
       "    .dataframe thead th {\n",
       "        text-align: right;\n",
       "    }\n",
       "</style>\n",
       "<table border=\"1\" class=\"dataframe\">\n",
       "  <thead>\n",
       "    <tr style=\"text-align: right;\">\n",
       "      <th></th>\n",
       "      <th>Fecha</th>\n",
       "      <th>Hora</th>\n",
       "      <th>Magnitud</th>\n",
       "      <th>Latitud</th>\n",
       "      <th>Longitud</th>\n",
       "      <th>Referencia de localizacion</th>\n",
       "      <th>Estado</th>\n",
       "    </tr>\n",
       "  </thead>\n",
       "  <tbody>\n",
       "    <tr>\n",
       "      <th>0</th>\n",
       "      <td>01/01/2023</td>\n",
       "      <td>00:52:29</td>\n",
       "      <td>4.0</td>\n",
       "      <td>14.3593</td>\n",
       "      <td>-93.4227</td>\n",
       "      <td>133 km al SUROESTE de MAPASTEPEC, CHIS</td>\n",
       "      <td>CHIS</td>\n",
       "    </tr>\n",
       "    <tr>\n",
       "      <th>1</th>\n",
       "      <td>01/01/2023</td>\n",
       "      <td>05:05:09</td>\n",
       "      <td>4.0</td>\n",
       "      <td>15.6735</td>\n",
       "      <td>-95.4058</td>\n",
       "      <td>61 km al SUROESTE de SALINA CRUZ, OAX</td>\n",
       "      <td>OAX</td>\n",
       "    </tr>\n",
       "    <tr>\n",
       "      <th>2</th>\n",
       "      <td>01/01/2023</td>\n",
       "      <td>13:37:16</td>\n",
       "      <td>4.4</td>\n",
       "      <td>15.7090</td>\n",
       "      <td>-92.2737</td>\n",
       "      <td>15 km al NOROESTE de FRONTERA COMALAPA, CHIS</td>\n",
       "      <td>CHIS</td>\n",
       "    </tr>\n",
       "    <tr>\n",
       "      <th>3</th>\n",
       "      <td>01/01/2023</td>\n",
       "      <td>16:46:26</td>\n",
       "      <td>4.1</td>\n",
       "      <td>14.2998</td>\n",
       "      <td>-93.8288</td>\n",
       "      <td>162 km al SUROESTE de MAPASTEPEC, CHIS</td>\n",
       "      <td>CHIS</td>\n",
       "    </tr>\n",
       "    <tr>\n",
       "      <th>4</th>\n",
       "      <td>01/01/2023</td>\n",
       "      <td>21:26:24</td>\n",
       "      <td>4.0</td>\n",
       "      <td>15.1175</td>\n",
       "      <td>-94.4258</td>\n",
       "      <td>129 km al SUROESTE de TONALA, CHIS</td>\n",
       "      <td>CHIS</td>\n",
       "    </tr>\n",
       "  </tbody>\n",
       "</table>\n",
       "</div>"
      ],
      "text/plain": [
       "        Fecha      Hora  Magnitud  Latitud  Longitud  \\\n",
       "0  01/01/2023  00:52:29       4.0  14.3593  -93.4227   \n",
       "1  01/01/2023  05:05:09       4.0  15.6735  -95.4058   \n",
       "2  01/01/2023  13:37:16       4.4  15.7090  -92.2737   \n",
       "3  01/01/2023  16:46:26       4.1  14.2998  -93.8288   \n",
       "4  01/01/2023  21:26:24       4.0  15.1175  -94.4258   \n",
       "\n",
       "                     Referencia de localizacion Estado  \n",
       "0        133 km al SUROESTE de MAPASTEPEC, CHIS   CHIS  \n",
       "1         61 km al SUROESTE de SALINA CRUZ, OAX    OAX  \n",
       "2  15 km al NOROESTE de FRONTERA COMALAPA, CHIS   CHIS  \n",
       "3        162 km al SUROESTE de MAPASTEPEC, CHIS   CHIS  \n",
       "4            129 km al SUROESTE de TONALA, CHIS   CHIS  "
      ]
     },
     "execution_count": 8,
     "metadata": {},
     "output_type": "execute_result"
    }
   ],
   "source": [
    "earthquakes.head(5)"
   ]
  },
  {
   "cell_type": "code",
   "execution_count": 10,
   "metadata": {},
   "outputs": [],
   "source": [
    "earthquakes = earthquakes.to_dict(orient='records')"
   ]
  },
  {
   "cell_type": "code",
   "execution_count": 26,
   "metadata": {},
   "outputs": [],
   "source": [
    "# Create an instance of MongoClient\n",
    "mongo = MongoClient(port=27017)"
   ]
  },
  {
   "cell_type": "code",
   "execution_count": 27,
   "metadata": {},
   "outputs": [
    {
     "name": "stdout",
     "output_type": "stream",
     "text": [
      "['MexicoEarthquakes', 'admin', 'autosaurus', 'config', 'epa', 'local', 'met', 'petsitly_marketing', 'travel_db', 'uk_food']\n"
     ]
    }
   ],
   "source": [
    "# confirm that our new database was created\n",
    "print(mongo.list_database_names())"
   ]
  },
  {
   "cell_type": "code",
   "execution_count": 28,
   "metadata": {},
   "outputs": [],
   "source": [
    "# assign the database to a variable name\n",
    "db = mongo['MexicoEarthquakes']"
   ]
  },
  {
   "cell_type": "code",
   "execution_count": 29,
   "metadata": {},
   "outputs": [
    {
     "name": "stdout",
     "output_type": "stream",
     "text": [
      "['earthquakes']\n"
     ]
    }
   ],
   "source": [
    "# review the collections in our new database\n",
    "print(db.list_collection_names())"
   ]
  },
  {
   "cell_type": "code",
   "execution_count": 34,
   "metadata": {},
   "outputs": [],
   "source": [
    "# assign the collection to a variable\n",
    "quakes = db['earthquakes']"
   ]
  },
  {
   "cell_type": "code",
   "execution_count": 35,
   "metadata": {},
   "outputs": [
    {
     "data": {
      "text/plain": [
       "<pymongo.results.InsertManyResult at 0x1fa4995d980>"
      ]
     },
     "execution_count": 35,
     "metadata": {},
     "output_type": "execute_result"
    }
   ],
   "source": [
    "quakes.insert_many(earthquakes)"
   ]
  }
 ],
 "metadata": {
  "kernelspec": {
   "display_name": "data_bootcamp",
   "language": "python",
   "name": "python3"
  },
  "language_info": {
   "codemirror_mode": {
    "name": "ipython",
    "version": 3
   },
   "file_extension": ".py",
   "mimetype": "text/x-python",
   "name": "python",
   "nbconvert_exporter": "python",
   "pygments_lexer": "ipython3",
   "version": "3.11.5"
  }
 },
 "nbformat": 4,
 "nbformat_minor": 2
}
